{
  "cells": [
    {
      "cell_type": "markdown",
      "metadata": {
        "id": "s-V5MuB3-KMO"
      },
      "source": [
        "<img src='https://ice-digital.com/home/images/capture.jpg' width='300' height='300' align='center'><br>\n",
        "\n",
        "\n",
        "_______\n",
        "# Computational Linguistics and Natural Language Processing\n",
        "Estimated time needed: **45** minutes\n",
        "\n",
        "## Objectives\n",
        "\n",
        "After completing this lab you will have a good understanding in:\n",
        "\n",
        "*   NLP\n",
        "*   Tokenization\n",
        "*   Stemming\n",
        "*   Lemmatization\n",
        "*   Stop Words\n",
        "*   TFIDF\n",
        "*   Bag of Words (BOW)\n",
        "*   \n",
        "\n",
        "\n",
        "This Notebook is created for Python Module\n",
        "\n",
        "## Text Analytics"
      ]
    },
    {
      "cell_type": "markdown",
      "metadata": {
        "id": "TKs6fLHN-KMX"
      },
      "source": [
        "\n",
        "As we have seen cases of different types of data and different ways of processing them to obtain important information out of them, in this section we will talk about one of the most sought upon data in today’s time.\n",
        "Customer Information is the backbone for most of the renowned companies in 21st century. Let’s take example of Google. How do you suppose Google is providing so many services for free? What profit does it make by giving you free services? Well it’s your information that google sells to different companies by analyzing your searches and makes profit through it. The moment you search for a product on google, you will start seeing the product recommendation on every website.\n",
        "This is the most basic usage of text analytics, product recommendation to customers by analyzing their searches. Similarly, many companies analyze the positive or negative reviews given by customers and try to predict the customer behavior.\n",
        "There is a wealth of such unstructured data present such as emails, google searches, online surveys, twitter, online reviews etc. which can be processed using text analysis. Many key information about people, customers can be derived by processing the unstructured text and analyzing.\n"
      ]
    },
    {
      "cell_type": "markdown",
      "metadata": {
        "id": "ZEHo_IaB-KMZ"
      },
      "source": [
        "## Natural Language Processing (NLP)\n",
        "\n",
        "\n",
        "NLP is a part of Artificial Intelligence, developed for the machine to understand human language. The ultimate goal of NLP is to read, understand and make valuable conclusion of human language. It is a very tough job to do as human language has a lot of variation in terms of language, pronunciation etc. Although, in recent times there has been a major breakthrough in the field of NLP.\n",
        "\n",
        "Siri and Alexa are one such example of uses of NLP.\n",
        "\n",
        "\n",
        "We will use NLP for text analytics.\n",
        "\n",
        "\n",
        "There many libraries available for NLP in python. we will focus on the two most important one's :\n",
        "\n",
        "* Natural Languange Tool Kit (NLTK)\n",
        "* Spacy\n",
        "\n",
        "<img src = 'https://miro.medium.com/max/1400/1*ifHckypvdSKXvt1ls1TFPA.jpeg' >"
      ]
    },
    {
      "cell_type": "markdown",
      "metadata": {
        "id": "L8SawiFy-KMa"
      },
      "source": [
        "Before we dive into text analytics using NLTK or Spacy. Let's understand about some important terminologies:"
      ]
    },
    {
      "cell_type": "markdown",
      "metadata": {
        "id": "zH7kYIvI-KMb"
      },
      "source": [
        "### Tokenization\n",
        "\n",
        "Tokenization is a process of breaking down a given paragraph of text into a list of sentence or words. When paragraph is broken down into list of sentences, it is called sentence tokenization.\n",
        "Similarly, if the sentences are further broken down into list of words, it is known as Word tokenization.\n",
        "\n",
        "Let's understand this with an example. Below is a given paragraph, let's see how tokenization works on it:\n",
        "\n",
        "\"India (Hindi: Bhārat), officially the Republic of India, is a country in South Asia. It is the seventh-largest country by area, the second-most populous country, and the most populous democracy in the world. Bounded by the Indian Ocean on the south, the Arabian Sea on the southwest, and the Bay of Bengal on the southeast, it shares land borders with Pakistan to the west; China, Nepal, and Bhutan to the north; and Bangladesh and Myanmar to the east. In the Indian Ocean, India is in the vicinity of Sri Lanka and the Maldives; its Andaman and Nicobar Islands share a maritime border with Thailand and Indonesia.\"\n",
        "\n",
        "* Sentence Tokenize:\n",
        "\n",
        "    ['India (Hindi: Bhārat), officially the Republic of India, is a country in South Asia.',\n",
        "    \n",
        "  'It is the seventh-largest country by area, the second-most populous country, and the most populous democracy in the world.',\n",
        "  \n",
        "  'Bounded by the Indian Ocean on the south, the Arabian Sea on the southwest, and the Bay of Bengal on the southeast, it shares land      borders with Pakistan to the west; China, Nepal, and Bhutan to the north; and Bangladesh and Myanmar to the east.',\n",
        "  \n",
        "  'In the Indian Ocean, India is in the vicinity of Sri Lanka and the Maldives; its Andaman and Nicobar Islands share a maritime border with Thailand and Indonesia.']\n",
        "\n",
        "\n",
        "* Word tokenize:\n",
        "\n",
        "['India', '(', 'Hindi', ':', 'Bhārat', ')', ',', 'officially', 'the', 'Republic', 'of', 'India', ',', 'is', 'a', 'country', 'in', 'South',\n",
        " 'Asia', '.', 'It', 'is', 'the', 'seventh-largest', 'country', 'by', 'area', ',', 'the', 'second-most', 'populous', 'country', ',', 'and',\n",
        " 'the', 'most', 'populous', 'democracy', 'in', 'the', 'world', '.', 'Bounded', 'by', 'the', 'Indian',\n",
        " 'Ocean',\n",
        " 'on',\n",
        " 'the',\n",
        " 'south',\n",
        " ',',\n",
        " 'the',\n",
        " 'Arabian',\n",
        " 'Sea',\n",
        " 'on',\n",
        " 'the',\n",
        " 'southwest',\n",
        " ',',\n",
        " 'and',\n",
        " 'the',\n",
        " 'Bay',\n",
        " 'of',\n",
        " 'Bengal',\n",
        " 'on',\n",
        " 'the',\n",
        " 'southeast',\n",
        " ',',\n",
        " 'it',\n",
        " 'shares',\n",
        " 'land',\n",
        " 'borders',\n",
        " 'with',\n",
        " 'Pakistan',\n",
        " 'to',\n",
        " 'the',\n",
        " 'west',\n",
        " ';',\n",
        " 'China',\n",
        " ',',\n",
        " 'Nepal',\n",
        " ',',\n",
        " 'and',\n",
        " 'Bhutan',\n",
        " 'to',\n",
        " 'the',\n",
        " 'north',\n",
        " ';',\n",
        " 'and',\n",
        " 'Bangladesh',\n",
        " 'and',\n",
        " 'Myanmar',\n",
        " 'to',\n",
        " 'the',\n",
        " 'east',\n",
        " '.',\n",
        " 'In',\n",
        " 'the',\n",
        " 'Indian',\n",
        " 'Ocean',\n",
        " ',',\n",
        " 'India',\n",
        " 'is',\n",
        " 'in',\n",
        " 'the',\n",
        " 'vicinity',\n",
        " 'of',\n",
        " 'Sri',\n",
        " 'Lanka',\n",
        " 'and',\n",
        " 'the',\n",
        " 'Maldives',\n",
        " ';',\n",
        " 'its',\n",
        " 'Andaman',\n",
        " 'and',\n",
        " 'Nicobar',\n",
        " 'Islands',\n",
        " 'share',\n",
        " 'a',\n",
        " 'maritime',\n",
        " 'border',\n",
        " 'with',\n",
        " 'Thailand',\n",
        " 'and',\n",
        " 'Indonesia',\n",
        " '.']\n",
        "\n",
        "\n",
        "Hope this example clears up the concept of tokenization. We will understand why it is done when we will dive into text analysis.\n",
        "\n",
        "\n",
        "\n",
        "\n",
        "\n"
      ]
    },
    {
      "cell_type": "code",
      "execution_count": null,
      "metadata": {
        "id": "NGgnUxlp-KMe",
        "outputId": "069b8f15-6be9-4eae-a377-1cd7c79a60d0"
      },
      "outputs": [
        {
          "name": "stderr",
          "output_type": "stream",
          "text": [
            "[nltk_data] Downloading collection 'all'\n",
            "[nltk_data]    | \n",
            "[nltk_data]    | Downloading package abc to\n",
            "[nltk_data]    |     C:\\Users\\LENOVO\\AppData\\Roaming\\nltk_data...\n",
            "[nltk_data]    |   Unzipping corpora\\abc.zip.\n",
            "[nltk_data]    | Downloading package alpino to\n",
            "[nltk_data]    |     C:\\Users\\LENOVO\\AppData\\Roaming\\nltk_data...\n",
            "[nltk_data]    |   Unzipping corpora\\alpino.zip.\n",
            "[nltk_data]    | Downloading package averaged_perceptron_tagger to\n",
            "[nltk_data]    |     C:\\Users\\LENOVO\\AppData\\Roaming\\nltk_data...\n",
            "[nltk_data]    |   Unzipping taggers\\averaged_perceptron_tagger.zip.\n",
            "[nltk_data]    | Downloading package averaged_perceptron_tagger_ru to\n",
            "[nltk_data]    |     C:\\Users\\LENOVO\\AppData\\Roaming\\nltk_data...\n",
            "[nltk_data]    |   Unzipping\n",
            "[nltk_data]    |       taggers\\averaged_perceptron_tagger_ru.zip.\n",
            "[nltk_data]    | Downloading package basque_grammars to\n",
            "[nltk_data]    |     C:\\Users\\LENOVO\\AppData\\Roaming\\nltk_data...\n",
            "[nltk_data]    |   Unzipping grammars\\basque_grammars.zip.\n",
            "[nltk_data]    | Downloading package biocreative_ppi to\n",
            "[nltk_data]    |     C:\\Users\\LENOVO\\AppData\\Roaming\\nltk_data...\n",
            "[nltk_data]    |   Unzipping corpora\\biocreative_ppi.zip.\n",
            "[nltk_data]    | Downloading package bllip_wsj_no_aux to\n",
            "[nltk_data]    |     C:\\Users\\LENOVO\\AppData\\Roaming\\nltk_data...\n",
            "[nltk_data]    |   Unzipping models\\bllip_wsj_no_aux.zip.\n",
            "[nltk_data]    | Downloading package book_grammars to\n",
            "[nltk_data]    |     C:\\Users\\LENOVO\\AppData\\Roaming\\nltk_data...\n",
            "[nltk_data]    |   Unzipping grammars\\book_grammars.zip.\n",
            "[nltk_data]    | Downloading package brown to\n",
            "[nltk_data]    |     C:\\Users\\LENOVO\\AppData\\Roaming\\nltk_data...\n",
            "[nltk_data]    |   Unzipping corpora\\brown.zip.\n",
            "[nltk_data]    | Downloading package brown_tei to\n",
            "[nltk_data]    |     C:\\Users\\LENOVO\\AppData\\Roaming\\nltk_data...\n",
            "[nltk_data]    |   Unzipping corpora\\brown_tei.zip.\n",
            "[nltk_data]    | Downloading package cess_cat to\n",
            "[nltk_data]    |     C:\\Users\\LENOVO\\AppData\\Roaming\\nltk_data...\n",
            "[nltk_data]    |   Unzipping corpora\\cess_cat.zip.\n",
            "[nltk_data]    | Downloading package cess_esp to\n",
            "[nltk_data]    |     C:\\Users\\LENOVO\\AppData\\Roaming\\nltk_data...\n",
            "[nltk_data]    |   Unzipping corpora\\cess_esp.zip.\n",
            "[nltk_data]    | Downloading package chat80 to\n",
            "[nltk_data]    |     C:\\Users\\LENOVO\\AppData\\Roaming\\nltk_data...\n",
            "[nltk_data]    |   Unzipping corpora\\chat80.zip.\n",
            "[nltk_data]    | Downloading package city_database to\n",
            "[nltk_data]    |     C:\\Users\\LENOVO\\AppData\\Roaming\\nltk_data...\n",
            "[nltk_data]    |   Unzipping corpora\\city_database.zip.\n",
            "[nltk_data]    | Downloading package cmudict to\n",
            "[nltk_data]    |     C:\\Users\\LENOVO\\AppData\\Roaming\\nltk_data...\n",
            "[nltk_data]    |   Unzipping corpora\\cmudict.zip.\n",
            "[nltk_data]    | Downloading package comparative_sentences to\n",
            "[nltk_data]    |     C:\\Users\\LENOVO\\AppData\\Roaming\\nltk_data...\n",
            "[nltk_data]    |   Unzipping corpora\\comparative_sentences.zip.\n",
            "[nltk_data]    | Downloading package comtrans to\n",
            "[nltk_data]    |     C:\\Users\\LENOVO\\AppData\\Roaming\\nltk_data...\n",
            "[nltk_data]    | Downloading package conll2000 to\n",
            "[nltk_data]    |     C:\\Users\\LENOVO\\AppData\\Roaming\\nltk_data...\n",
            "[nltk_data]    |   Unzipping corpora\\conll2000.zip.\n",
            "[nltk_data]    | Downloading package conll2002 to\n",
            "[nltk_data]    |     C:\\Users\\LENOVO\\AppData\\Roaming\\nltk_data...\n",
            "[nltk_data]    |   Unzipping corpora\\conll2002.zip.\n",
            "[nltk_data]    | Downloading package conll2007 to\n",
            "[nltk_data]    |     C:\\Users\\LENOVO\\AppData\\Roaming\\nltk_data...\n",
            "[nltk_data]    | Downloading package crubadan to\n",
            "[nltk_data]    |     C:\\Users\\LENOVO\\AppData\\Roaming\\nltk_data...\n",
            "[nltk_data]    |   Unzipping corpora\\crubadan.zip.\n",
            "[nltk_data]    | Downloading package dependency_treebank to\n",
            "[nltk_data]    |     C:\\Users\\LENOVO\\AppData\\Roaming\\nltk_data...\n",
            "[nltk_data]    |   Unzipping corpora\\dependency_treebank.zip.\n",
            "[nltk_data]    | Downloading package dolch to\n",
            "[nltk_data]    |     C:\\Users\\LENOVO\\AppData\\Roaming\\nltk_data...\n",
            "[nltk_data]    |   Unzipping corpora\\dolch.zip.\n",
            "[nltk_data]    | Downloading package europarl_raw to\n",
            "[nltk_data]    |     C:\\Users\\LENOVO\\AppData\\Roaming\\nltk_data...\n",
            "[nltk_data]    |   Unzipping corpora\\europarl_raw.zip.\n",
            "[nltk_data]    | Downloading package extended_omw to\n",
            "[nltk_data]    |     C:\\Users\\LENOVO\\AppData\\Roaming\\nltk_data...\n",
            "[nltk_data]    | Downloading package floresta to\n",
            "[nltk_data]    |     C:\\Users\\LENOVO\\AppData\\Roaming\\nltk_data...\n",
            "[nltk_data]    |   Unzipping corpora\\floresta.zip.\n",
            "[nltk_data]    | Downloading package framenet_v15 to\n",
            "[nltk_data]    |     C:\\Users\\LENOVO\\AppData\\Roaming\\nltk_data...\n",
            "[nltk_data]    |   Unzipping corpora\\framenet_v15.zip.\n",
            "[nltk_data]    | Downloading package framenet_v17 to\n",
            "[nltk_data]    |     C:\\Users\\LENOVO\\AppData\\Roaming\\nltk_data...\n",
            "[nltk_data]    |   Unzipping corpora\\framenet_v17.zip.\n",
            "[nltk_data]    | Downloading package gazetteers to\n",
            "[nltk_data]    |     C:\\Users\\LENOVO\\AppData\\Roaming\\nltk_data...\n",
            "[nltk_data]    |   Unzipping corpora\\gazetteers.zip.\n",
            "[nltk_data]    | Downloading package genesis to\n",
            "[nltk_data]    |     C:\\Users\\LENOVO\\AppData\\Roaming\\nltk_data...\n",
            "[nltk_data]    |   Unzipping corpora\\genesis.zip.\n",
            "[nltk_data]    | Downloading package gutenberg to\n",
            "[nltk_data]    |     C:\\Users\\LENOVO\\AppData\\Roaming\\nltk_data...\n",
            "[nltk_data]    |   Unzipping corpora\\gutenberg.zip.\n",
            "[nltk_data]    | Downloading package ieer to\n",
            "[nltk_data]    |     C:\\Users\\LENOVO\\AppData\\Roaming\\nltk_data...\n",
            "[nltk_data]    |   Unzipping corpora\\ieer.zip.\n",
            "[nltk_data]    | Downloading package inaugural to\n",
            "[nltk_data]    |     C:\\Users\\LENOVO\\AppData\\Roaming\\nltk_data...\n",
            "[nltk_data]    |   Unzipping corpora\\inaugural.zip.\n",
            "[nltk_data]    | Downloading package indian to\n",
            "[nltk_data]    |     C:\\Users\\LENOVO\\AppData\\Roaming\\nltk_data...\n",
            "[nltk_data]    |   Unzipping corpora\\indian.zip.\n",
            "[nltk_data]    | Downloading package jeita to\n",
            "[nltk_data]    |     C:\\Users\\LENOVO\\AppData\\Roaming\\nltk_data...\n",
            "[nltk_data]    | Downloading package kimmo to\n",
            "[nltk_data]    |     C:\\Users\\LENOVO\\AppData\\Roaming\\nltk_data...\n",
            "[nltk_data]    |   Unzipping corpora\\kimmo.zip.\n",
            "[nltk_data]    | Downloading package knbc to\n",
            "[nltk_data]    |     C:\\Users\\LENOVO\\AppData\\Roaming\\nltk_data...\n",
            "[nltk_data]    | Downloading package large_grammars to\n",
            "[nltk_data]    |     C:\\Users\\LENOVO\\AppData\\Roaming\\nltk_data...\n",
            "[nltk_data]    |   Unzipping grammars\\large_grammars.zip.\n",
            "[nltk_data]    | Downloading package lin_thesaurus to\n",
            "[nltk_data]    |     C:\\Users\\LENOVO\\AppData\\Roaming\\nltk_data...\n",
            "[nltk_data]    |   Unzipping corpora\\lin_thesaurus.zip.\n",
            "[nltk_data]    | Downloading package mac_morpho to\n",
            "[nltk_data]    |     C:\\Users\\LENOVO\\AppData\\Roaming\\nltk_data...\n",
            "[nltk_data]    |   Unzipping corpora\\mac_morpho.zip.\n",
            "[nltk_data]    | Downloading package machado to\n",
            "[nltk_data]    |     C:\\Users\\LENOVO\\AppData\\Roaming\\nltk_data...\n",
            "[nltk_data]    | Downloading package masc_tagged to\n",
            "[nltk_data]    |     C:\\Users\\LENOVO\\AppData\\Roaming\\nltk_data...\n",
            "[nltk_data]    | Downloading package maxent_ne_chunker to\n",
            "[nltk_data]    |     C:\\Users\\LENOVO\\AppData\\Roaming\\nltk_data...\n",
            "[nltk_data]    |   Unzipping chunkers\\maxent_ne_chunker.zip.\n",
            "[nltk_data]    | Downloading package maxent_treebank_pos_tagger to\n",
            "[nltk_data]    |     C:\\Users\\LENOVO\\AppData\\Roaming\\nltk_data...\n",
            "[nltk_data]    |   Unzipping taggers\\maxent_treebank_pos_tagger.zip.\n",
            "[nltk_data]    | Downloading package moses_sample to\n",
            "[nltk_data]    |     C:\\Users\\LENOVO\\AppData\\Roaming\\nltk_data...\n",
            "[nltk_data]    |   Unzipping models\\moses_sample.zip.\n",
            "[nltk_data]    | Downloading package movie_reviews to\n",
            "[nltk_data]    |     C:\\Users\\LENOVO\\AppData\\Roaming\\nltk_data...\n",
            "[nltk_data]    |   Unzipping corpora\\movie_reviews.zip.\n",
            "[nltk_data]    | Downloading package mte_teip5 to\n",
            "[nltk_data]    |     C:\\Users\\LENOVO\\AppData\\Roaming\\nltk_data...\n",
            "[nltk_data]    |   Unzipping corpora\\mte_teip5.zip.\n",
            "[nltk_data]    | Downloading package mwa_ppdb to\n",
            "[nltk_data]    |     C:\\Users\\LENOVO\\AppData\\Roaming\\nltk_data...\n",
            "[nltk_data]    |   Unzipping misc\\mwa_ppdb.zip.\n",
            "[nltk_data]    | Downloading package names to\n",
            "[nltk_data]    |     C:\\Users\\LENOVO\\AppData\\Roaming\\nltk_data...\n",
            "[nltk_data]    |   Unzipping corpora\\names.zip.\n",
            "[nltk_data]    | Downloading package nombank.1.0 to\n",
            "[nltk_data]    |     C:\\Users\\LENOVO\\AppData\\Roaming\\nltk_data...\n"
          ]
        },
        {
          "name": "stderr",
          "output_type": "stream",
          "text": [
            "[nltk_data]    | Downloading package nonbreaking_prefixes to\n",
            "[nltk_data]    |     C:\\Users\\LENOVO\\AppData\\Roaming\\nltk_data...\n",
            "[nltk_data]    |   Unzipping corpora\\nonbreaking_prefixes.zip.\n",
            "[nltk_data]    | Downloading package nps_chat to\n",
            "[nltk_data]    |     C:\\Users\\LENOVO\\AppData\\Roaming\\nltk_data...\n",
            "[nltk_data]    |   Unzipping corpora\\nps_chat.zip.\n",
            "[nltk_data]    | Downloading package omw to\n",
            "[nltk_data]    |     C:\\Users\\LENOVO\\AppData\\Roaming\\nltk_data...\n",
            "[nltk_data]    | Downloading package omw-1.4 to\n",
            "[nltk_data]    |     C:\\Users\\LENOVO\\AppData\\Roaming\\nltk_data...\n",
            "[nltk_data]    | Downloading package opinion_lexicon to\n",
            "[nltk_data]    |     C:\\Users\\LENOVO\\AppData\\Roaming\\nltk_data...\n",
            "[nltk_data]    |   Unzipping corpora\\opinion_lexicon.zip.\n",
            "[nltk_data]    | Downloading package panlex_swadesh to\n",
            "[nltk_data]    |     C:\\Users\\LENOVO\\AppData\\Roaming\\nltk_data...\n",
            "[nltk_data]    | Downloading package paradigms to\n",
            "[nltk_data]    |     C:\\Users\\LENOVO\\AppData\\Roaming\\nltk_data...\n",
            "[nltk_data]    |   Unzipping corpora\\paradigms.zip.\n",
            "[nltk_data]    | Downloading package pe08 to\n",
            "[nltk_data]    |     C:\\Users\\LENOVO\\AppData\\Roaming\\nltk_data...\n",
            "[nltk_data]    |   Unzipping corpora\\pe08.zip.\n",
            "[nltk_data]    | Downloading package perluniprops to\n",
            "[nltk_data]    |     C:\\Users\\LENOVO\\AppData\\Roaming\\nltk_data...\n",
            "[nltk_data]    |   Unzipping misc\\perluniprops.zip.\n",
            "[nltk_data]    | Downloading package pil to\n",
            "[nltk_data]    |     C:\\Users\\LENOVO\\AppData\\Roaming\\nltk_data...\n",
            "[nltk_data]    |   Unzipping corpora\\pil.zip.\n",
            "[nltk_data]    | Downloading package pl196x to\n",
            "[nltk_data]    |     C:\\Users\\LENOVO\\AppData\\Roaming\\nltk_data...\n",
            "[nltk_data]    |   Unzipping corpora\\pl196x.zip.\n",
            "[nltk_data]    | Downloading package porter_test to\n",
            "[nltk_data]    |     C:\\Users\\LENOVO\\AppData\\Roaming\\nltk_data...\n",
            "[nltk_data]    |   Unzipping stemmers\\porter_test.zip.\n",
            "[nltk_data]    | Downloading package ppattach to\n",
            "[nltk_data]    |     C:\\Users\\LENOVO\\AppData\\Roaming\\nltk_data...\n",
            "[nltk_data]    |   Unzipping corpora\\ppattach.zip.\n",
            "[nltk_data]    | Downloading package problem_reports to\n",
            "[nltk_data]    |     C:\\Users\\LENOVO\\AppData\\Roaming\\nltk_data...\n",
            "[nltk_data]    |   Unzipping corpora\\problem_reports.zip.\n",
            "[nltk_data]    | Downloading package product_reviews_1 to\n",
            "[nltk_data]    |     C:\\Users\\LENOVO\\AppData\\Roaming\\nltk_data...\n",
            "[nltk_data]    |   Unzipping corpora\\product_reviews_1.zip.\n",
            "[nltk_data]    | Downloading package product_reviews_2 to\n",
            "[nltk_data]    |     C:\\Users\\LENOVO\\AppData\\Roaming\\nltk_data...\n",
            "[nltk_data]    |   Unzipping corpora\\product_reviews_2.zip.\n",
            "[nltk_data]    | Downloading package propbank to\n",
            "[nltk_data]    |     C:\\Users\\LENOVO\\AppData\\Roaming\\nltk_data...\n",
            "[nltk_data]    | Downloading package pros_cons to\n",
            "[nltk_data]    |     C:\\Users\\LENOVO\\AppData\\Roaming\\nltk_data...\n",
            "[nltk_data]    |   Unzipping corpora\\pros_cons.zip.\n",
            "[nltk_data]    | Downloading package ptb to\n",
            "[nltk_data]    |     C:\\Users\\LENOVO\\AppData\\Roaming\\nltk_data...\n",
            "[nltk_data]    |   Unzipping corpora\\ptb.zip.\n",
            "[nltk_data]    | Downloading package punkt to\n",
            "[nltk_data]    |     C:\\Users\\LENOVO\\AppData\\Roaming\\nltk_data...\n",
            "[nltk_data]    |   Package punkt is already up-to-date!\n",
            "[nltk_data]    | Downloading package qc to\n",
            "[nltk_data]    |     C:\\Users\\LENOVO\\AppData\\Roaming\\nltk_data...\n",
            "[nltk_data]    |   Unzipping corpora\\qc.zip.\n",
            "[nltk_data]    | Downloading package reuters to\n",
            "[nltk_data]    |     C:\\Users\\LENOVO\\AppData\\Roaming\\nltk_data...\n",
            "[nltk_data]    | Downloading package rslp to\n",
            "[nltk_data]    |     C:\\Users\\LENOVO\\AppData\\Roaming\\nltk_data...\n",
            "[nltk_data]    |   Unzipping stemmers\\rslp.zip.\n",
            "[nltk_data]    | Downloading package rte to\n",
            "[nltk_data]    |     C:\\Users\\LENOVO\\AppData\\Roaming\\nltk_data...\n",
            "[nltk_data]    |   Unzipping corpora\\rte.zip.\n",
            "[nltk_data]    | Downloading package sample_grammars to\n",
            "[nltk_data]    |     C:\\Users\\LENOVO\\AppData\\Roaming\\nltk_data...\n",
            "[nltk_data]    |   Unzipping grammars\\sample_grammars.zip.\n",
            "[nltk_data]    | Downloading package semcor to\n",
            "[nltk_data]    |     C:\\Users\\LENOVO\\AppData\\Roaming\\nltk_data...\n",
            "[nltk_data]    | Downloading package senseval to\n",
            "[nltk_data]    |     C:\\Users\\LENOVO\\AppData\\Roaming\\nltk_data...\n",
            "[nltk_data]    |   Unzipping corpora\\senseval.zip.\n",
            "[nltk_data]    | Downloading package sentence_polarity to\n",
            "[nltk_data]    |     C:\\Users\\LENOVO\\AppData\\Roaming\\nltk_data...\n",
            "[nltk_data]    |   Unzipping corpora\\sentence_polarity.zip.\n",
            "[nltk_data]    | Downloading package sentiwordnet to\n",
            "[nltk_data]    |     C:\\Users\\LENOVO\\AppData\\Roaming\\nltk_data...\n",
            "[nltk_data]    |   Unzipping corpora\\sentiwordnet.zip.\n",
            "[nltk_data]    | Downloading package shakespeare to\n",
            "[nltk_data]    |     C:\\Users\\LENOVO\\AppData\\Roaming\\nltk_data...\n",
            "[nltk_data]    |   Unzipping corpora\\shakespeare.zip.\n",
            "[nltk_data]    | Downloading package sinica_treebank to\n",
            "[nltk_data]    |     C:\\Users\\LENOVO\\AppData\\Roaming\\nltk_data...\n",
            "[nltk_data]    |   Unzipping corpora\\sinica_treebank.zip.\n",
            "[nltk_data]    | Downloading package smultron to\n",
            "[nltk_data]    |     C:\\Users\\LENOVO\\AppData\\Roaming\\nltk_data...\n",
            "[nltk_data]    |   Unzipping corpora\\smultron.zip.\n",
            "[nltk_data]    | Downloading package snowball_data to\n",
            "[nltk_data]    |     C:\\Users\\LENOVO\\AppData\\Roaming\\nltk_data...\n",
            "[nltk_data]    | Downloading package spanish_grammars to\n",
            "[nltk_data]    |     C:\\Users\\LENOVO\\AppData\\Roaming\\nltk_data...\n",
            "[nltk_data]    |   Unzipping grammars\\spanish_grammars.zip.\n",
            "[nltk_data]    | Downloading package state_union to\n",
            "[nltk_data]    |     C:\\Users\\LENOVO\\AppData\\Roaming\\nltk_data...\n",
            "[nltk_data]    |   Unzipping corpora\\state_union.zip.\n",
            "[nltk_data]    | Downloading package stopwords to\n",
            "[nltk_data]    |     C:\\Users\\LENOVO\\AppData\\Roaming\\nltk_data...\n",
            "[nltk_data]    |   Package stopwords is already up-to-date!\n",
            "[nltk_data]    | Downloading package subjectivity to\n",
            "[nltk_data]    |     C:\\Users\\LENOVO\\AppData\\Roaming\\nltk_data...\n",
            "[nltk_data]    |   Unzipping corpora\\subjectivity.zip.\n",
            "[nltk_data]    | Downloading package swadesh to\n",
            "[nltk_data]    |     C:\\Users\\LENOVO\\AppData\\Roaming\\nltk_data...\n",
            "[nltk_data]    |   Unzipping corpora\\swadesh.zip.\n",
            "[nltk_data]    | Downloading package switchboard to\n",
            "[nltk_data]    |     C:\\Users\\LENOVO\\AppData\\Roaming\\nltk_data...\n",
            "[nltk_data]    |   Unzipping corpora\\switchboard.zip.\n",
            "[nltk_data]    | Downloading package tagsets to\n",
            "[nltk_data]    |     C:\\Users\\LENOVO\\AppData\\Roaming\\nltk_data...\n",
            "[nltk_data]    |   Unzipping help\\tagsets.zip.\n",
            "[nltk_data]    | Downloading package timit to\n",
            "[nltk_data]    |     C:\\Users\\LENOVO\\AppData\\Roaming\\nltk_data...\n",
            "[nltk_data]    |   Unzipping corpora\\timit.zip.\n",
            "[nltk_data]    | Downloading package toolbox to\n",
            "[nltk_data]    |     C:\\Users\\LENOVO\\AppData\\Roaming\\nltk_data...\n",
            "[nltk_data]    |   Unzipping corpora\\toolbox.zip.\n",
            "[nltk_data]    | Downloading package treebank to\n",
            "[nltk_data]    |     C:\\Users\\LENOVO\\AppData\\Roaming\\nltk_data...\n",
            "[nltk_data]    |   Unzipping corpora\\treebank.zip.\n",
            "[nltk_data]    | Downloading package twitter_samples to\n",
            "[nltk_data]    |     C:\\Users\\LENOVO\\AppData\\Roaming\\nltk_data...\n",
            "[nltk_data]    |   Unzipping corpora\\twitter_samples.zip.\n",
            "[nltk_data]    | Downloading package udhr to\n",
            "[nltk_data]    |     C:\\Users\\LENOVO\\AppData\\Roaming\\nltk_data...\n",
            "[nltk_data]    |   Unzipping corpora\\udhr.zip.\n",
            "[nltk_data]    | Downloading package udhr2 to\n",
            "[nltk_data]    |     C:\\Users\\LENOVO\\AppData\\Roaming\\nltk_data...\n",
            "[nltk_data]    |   Unzipping corpora\\udhr2.zip.\n",
            "[nltk_data]    | Downloading package unicode_samples to\n",
            "[nltk_data]    |     C:\\Users\\LENOVO\\AppData\\Roaming\\nltk_data...\n",
            "[nltk_data]    |   Unzipping corpora\\unicode_samples.zip.\n",
            "[nltk_data]    | Downloading package universal_tagset to\n",
            "[nltk_data]    |     C:\\Users\\LENOVO\\AppData\\Roaming\\nltk_data...\n",
            "[nltk_data]    |   Unzipping taggers\\universal_tagset.zip.\n",
            "[nltk_data]    | Downloading package universal_treebanks_v20 to\n",
            "[nltk_data]    |     C:\\Users\\LENOVO\\AppData\\Roaming\\nltk_data...\n",
            "[nltk_data]    | Downloading package vader_lexicon to\n",
            "[nltk_data]    |     C:\\Users\\LENOVO\\AppData\\Roaming\\nltk_data...\n",
            "[nltk_data]    | Downloading package verbnet to\n",
            "[nltk_data]    |     C:\\Users\\LENOVO\\AppData\\Roaming\\nltk_data...\n",
            "[nltk_data]    |   Unzipping corpora\\verbnet.zip.\n"
          ]
        },
        {
          "name": "stderr",
          "output_type": "stream",
          "text": [
            "[nltk_data]    | Downloading package verbnet3 to\n",
            "[nltk_data]    |     C:\\Users\\LENOVO\\AppData\\Roaming\\nltk_data...\n",
            "[nltk_data]    |   Unzipping corpora\\verbnet3.zip.\n",
            "[nltk_data]    | Downloading package webtext to\n",
            "[nltk_data]    |     C:\\Users\\LENOVO\\AppData\\Roaming\\nltk_data...\n",
            "[nltk_data]    |   Unzipping corpora\\webtext.zip.\n",
            "[nltk_data]    | Downloading package wmt15_eval to\n",
            "[nltk_data]    |     C:\\Users\\LENOVO\\AppData\\Roaming\\nltk_data...\n",
            "[nltk_data]    |   Unzipping models\\wmt15_eval.zip.\n",
            "[nltk_data]    | Downloading package word2vec_sample to\n",
            "[nltk_data]    |     C:\\Users\\LENOVO\\AppData\\Roaming\\nltk_data...\n",
            "[nltk_data]    |   Unzipping models\\word2vec_sample.zip.\n",
            "[nltk_data]    | Downloading package wordnet to\n",
            "[nltk_data]    |     C:\\Users\\LENOVO\\AppData\\Roaming\\nltk_data...\n",
            "[nltk_data]    | Downloading package wordnet2021 to\n",
            "[nltk_data]    |     C:\\Users\\LENOVO\\AppData\\Roaming\\nltk_data...\n",
            "[nltk_data]    | Downloading package wordnet31 to\n",
            "[nltk_data]    |     C:\\Users\\LENOVO\\AppData\\Roaming\\nltk_data...\n",
            "[nltk_data]    | Downloading package wordnet_ic to\n",
            "[nltk_data]    |     C:\\Users\\LENOVO\\AppData\\Roaming\\nltk_data...\n",
            "[nltk_data]    |   Unzipping corpora\\wordnet_ic.zip.\n",
            "[nltk_data]    | Downloading package words to\n",
            "[nltk_data]    |     C:\\Users\\LENOVO\\AppData\\Roaming\\nltk_data...\n",
            "[nltk_data]    |   Unzipping corpora\\words.zip.\n",
            "[nltk_data]    | Downloading package ycoe to\n",
            "[nltk_data]    |     C:\\Users\\LENOVO\\AppData\\Roaming\\nltk_data...\n",
            "[nltk_data]    |   Unzipping corpora\\ycoe.zip.\n",
            "[nltk_data]    | \n",
            "[nltk_data]  Done downloading collection all\n"
          ]
        },
        {
          "data": {
            "text/plain": [
              "True"
            ]
          },
          "execution_count": 7,
          "metadata": {},
          "output_type": "execute_result"
        }
      ],
      "source": [
        "import nltk\n",
        "nltk.download('all')"
      ]
    },
    {
      "cell_type": "code",
      "execution_count": null,
      "metadata": {
        "id": "vTuuXeY0-KMh",
        "outputId": "52231142-c58c-40ab-9baa-47dc2555b35a"
      },
      "outputs": [
        {
          "name": "stdout",
          "output_type": "stream",
          "text": [
            "India (Hindi: Bhārat), officially the Republic of India, is a country in South Asia. It is the seventh-largest country by area, the second-most populous country, and the most populous democracy in the world. Bounded by the Indian Ocean on the south, the Arabian Sea on the southwest, and the Bay of Bengal on the southeast, it shares land borders with Pakistan to the west; China, Nepal, and Bhutan to the north; and Bangladesh and Myanmar to the east. In the Indian Ocean, India is in the vicinity of Sri Lanka and the Maldives; its Andaman and Nicobar Islands share a maritime border with Thailand and Indonesia.\n",
            "\n",
            "\n",
            "--Tokenization : Sentence--\n"
          ]
        },
        {
          "data": {
            "text/plain": [
              "['India (Hindi: Bhārat), officially the Republic of India, is a country in South Asia.',\n",
              " 'It is the seventh-largest country by area, the second-most populous country, and the most populous democracy in the world.',\n",
              " 'Bounded by the Indian Ocean on the south, the Arabian Sea on the southwest, and the Bay of Bengal on the southeast, it shares land borders with Pakistan to the west; China, Nepal, and Bhutan to the north; and Bangladesh and Myanmar to the east.',\n",
              " 'In the Indian Ocean, India is in the vicinity of Sri Lanka and the Maldives; its Andaman and Nicobar Islands share a maritime border with Thailand and Indonesia.']"
            ]
          },
          "execution_count": 8,
          "metadata": {},
          "output_type": "execute_result"
        }
      ],
      "source": [
        "# Tokenizing using NLTK\n",
        "import nltk\n",
        "\n",
        "data = \"India (Hindi: Bhārat), officially the Republic of India, is a country in South Asia. It is the seventh-largest country by area, the second-most populous country, and the most populous democracy in the world. Bounded by the Indian Ocean on the south, the Arabian Sea on the southwest, and the Bay of Bengal on the southeast, it shares land borders with Pakistan to the west; China, Nepal, and Bhutan to the north; and Bangladesh and Myanmar to the east. In the Indian Ocean, India is in the vicinity of Sri Lanka and the Maldives; its Andaman and Nicobar Islands share a maritime border with Thailand and Indonesia.\"\n",
        "print(data)\n",
        "print('\\n')\n",
        "print('--Tokenization : Sentence--')\n",
        "nltk.sent_tokenize(data)"
      ]
    },
    {
      "cell_type": "code",
      "execution_count": null,
      "metadata": {
        "id": "qUFENAaX-KMj",
        "outputId": "a4f39731-03bc-4d9d-b85e-8143862cac40"
      },
      "outputs": [
        {
          "name": "stdout",
          "output_type": "stream",
          "text": [
            "--Tokenize : Words--\n",
            "['India', '(', 'Hindi', ':', 'Bhārat', ')', ',', 'officially', 'the', 'Republic', 'of', 'India', ',', 'is', 'a', 'country', 'in', 'South', 'Asia', '.', 'It', 'is', 'the', 'seventh-largest', 'country', 'by', 'area', ',', 'the', 'second-most', 'populous', 'country', ',', 'and', 'the', 'most', 'populous', 'democracy', 'in', 'the', 'world', '.', 'Bounded', 'by', 'the', 'Indian', 'Ocean', 'on', 'the', 'south', ',', 'the', 'Arabian', 'Sea', 'on', 'the', 'southwest', ',', 'and', 'the', 'Bay', 'of', 'Bengal', 'on', 'the', 'southeast', ',', 'it', 'shares', 'land', 'borders', 'with', 'Pakistan', 'to', 'the', 'west', ';', 'China', ',', 'Nepal', ',', 'and', 'Bhutan', 'to', 'the', 'north', ';', 'and', 'Bangladesh', 'and', 'Myanmar', 'to', 'the', 'east', '.', 'In', 'the', 'Indian', 'Ocean', ',', 'India', 'is', 'in', 'the', 'vicinity', 'of', 'Sri', 'Lanka', 'and', 'the', 'Maldives', ';', 'its', 'Andaman', 'and', 'Nicobar', 'Islands', 'share', 'a', 'maritime', 'border', 'with', 'Thailand', 'and', 'Indonesia', '.']\n"
          ]
        }
      ],
      "source": [
        "print('--Tokenize : Words--')\n",
        "print(nltk.word_tokenize(data))"
      ]
    },
    {
      "cell_type": "markdown",
      "metadata": {
        "id": "1SGbXnau-KMk"
      },
      "source": [
        "## POS Tags and Chunking\n",
        "\n",
        "* Parts Of Speech Tagging(POS tags)\n",
        "\n",
        "As the name suggests, it is a method of tagging individual words on the basis of it's parts of speech.\n",
        "\n",
        "Wikipedia definition : Part-of-speech tagging (POS tagging or PoS tagging or POST), also called grammatical tagging or word-category disambiguation, is the process of marking up a word in a text (corpus) as corresponding to a particular part of speech,based on both its definition and its context i.e., its relationship with adjacent and related words in a phrase, sentence, or paragraph. A simplified form of this is commonly taught to school-age children, in the identification of words as nouns, verbs, adjectives, adverbs, etc.\n",
        "\n",
        "There are 9 parts of speech in grammars, but in NLP there are more than 9 POS tags based on different set of rules, such as:\n",
        "\n",
        "* NN noun, singular 'table'\n",
        "* NNS noun plural 'tables'\n",
        "* NNP proper noun, singular\n",
        "* NNPS proper noun, plural\n",
        "\n",
        "There are 4 types of division for noun only. Similarly, there are multiple divisions for other part of speeches.\n",
        "\n",
        "\n"
      ]
    },
    {
      "cell_type": "markdown",
      "source": [
        "https://www.ling.upenn.edu/courses/Fall_2003/ling001/penn_treebank_pos.html"
      ],
      "metadata": {
        "id": "8gn8qAUbwkn5"
      }
    },
    {
      "cell_type": "code",
      "execution_count": null,
      "metadata": {
        "id": "PyCRhmrX-KMl",
        "outputId": "897c9635-1864-4470-bf07-2f0a84d77763"
      },
      "outputs": [
        {
          "data": {
            "text/plain": [
              "[('We', 'PRP'),\n",
              " ('will', 'MD'),\n",
              " ('see', 'VB'),\n",
              " ('an', 'DT'),\n",
              " ('example', 'NN'),\n",
              " ('of', 'IN'),\n",
              " ('POS', 'NNP'),\n",
              " ('tagging', 'NN'),\n",
              " ('.', '.')]"
            ]
          },
          "execution_count": 10,
          "metadata": {},
          "output_type": "execute_result"
        }
      ],
      "source": [
        "data =' We will see an example of POS tagging.'\n",
        "\n",
        "pos = nltk.pos_tag(nltk.word_tokenize(data))\n",
        "\n",
        "pos"
      ]
    },
    {
      "cell_type": "markdown",
      "metadata": {
        "id": "8vNY-DGW-KMm"
      },
      "source": [
        "* Chunking\n",
        "\n",
        "After using parts of speech, Chunking can be used to make data more structured by giving a specific set of rules. Chunking is also known as shallow parser.\n",
        "Let's understand more about chunking by following example :"
      ]
    },
    {
      "cell_type": "code",
      "execution_count": null,
      "metadata": {
        "id": "O6sWoN_K-KMn",
        "outputId": "2b201d34-2ecd-4949-f2a7-505d6c3d7592"
      },
      "outputs": [
        {
          "name": "stdout",
          "output_type": "stream",
          "text": [
            "(S\n",
            "  We/PRP\n",
            "  will/MD\n",
            "  see/VB\n",
            "  an/DT\n",
            "  (MN example/NN)\n",
            "  of/IN\n",
            "  (MN POS/NNP tagging/NN)\n",
            "  ./.)\n"
          ]
        }
      ],
      "source": [
        "data =' We will see an example of POS tagging.'\n",
        "\n",
        "pos = nltk.pos_tag(nltk.word_tokenize(data))\n",
        "\n",
        "# now once the POS tag has been done. Let's say we want to further structure data such that Nouns are\n",
        "# categorized under one specific node defined by us :\n",
        "\n",
        "my_node = \"MN: {<NNP>*<NN>}\"\n",
        "\n",
        "chunk  =nltk.RegexpParser(my_node)\n",
        "result = chunk.parse(pos)\n",
        "print(result)\n",
        "result.draw()    # It will draw the pattern graphically which can be seen in Noun Phrase chunking"
      ]
    },
    {
      "cell_type": "markdown",
      "metadata": {
        "id": "thjYch0y-KMo"
      },
      "source": [
        "* Graphical representation\n",
        "\n",
        "<img src=\"chunk.PNG\">\n",
        "\n",
        "\n",
        "We can see that both NN and NNP are now categorised into \"MN\" (as the given tag_name).\n",
        "\n",
        "So, whenever we need to categorise different tags into one tag, we can use chunking for this purpose."
      ]
    },
    {
      "cell_type": "markdown",
      "metadata": {
        "id": "LNHS_70i-KMp"
      },
      "source": [
        "## Stop Words\n",
        "Stop words are such words which are very common in occurrence such as ‘a’,’an’,’the’, ‘at’ etc. We ignore such words during the preprocessing part since they do not give any important information and would just take additional space. We can make our custom list of stop words as well if we want. Different libraries have different stop words list. Let’s see the stop words list for NLTK:\n",
        "\n",
        "\n"
      ]
    },
    {
      "cell_type": "code",
      "execution_count": null,
      "metadata": {
        "id": "L-MkxLE7-KMp",
        "outputId": "e730eeb6-b580-4faa-aa87-d930bf5f1bed"
      },
      "outputs": [
        {
          "name": "stdout",
          "output_type": "stream",
          "text": [
            "['au', 'aux', 'avec', 'ce', 'ces', 'dans', 'de', 'des', 'du', 'elle', 'en', 'et', 'eux', 'il', 'ils', 'je', 'la', 'le', 'les', 'leur', 'lui', 'ma', 'mais', 'me', 'même', 'mes', 'moi', 'mon', 'ne', 'nos', 'notre', 'nous', 'on', 'ou', 'par', 'pas', 'pour', 'qu', 'que', 'qui', 'sa', 'se', 'ses', 'son', 'sur', 'ta', 'te', 'tes', 'toi', 'ton', 'tu', 'un', 'une', 'vos', 'votre', 'vous', 'c', 'd', 'j', 'l', 'à', 'm', 'n', 's', 't', 'y', 'été', 'étée', 'étées', 'étés', 'étant', 'étante', 'étants', 'étantes', 'suis', 'es', 'est', 'sommes', 'êtes', 'sont', 'serai', 'seras', 'sera', 'serons', 'serez', 'seront', 'serais', 'serait', 'serions', 'seriez', 'seraient', 'étais', 'était', 'étions', 'étiez', 'étaient', 'fus', 'fut', 'fûmes', 'fûtes', 'furent', 'sois', 'soit', 'soyons', 'soyez', 'soient', 'fusse', 'fusses', 'fût', 'fussions', 'fussiez', 'fussent', 'ayant', 'ayante', 'ayantes', 'ayants', 'eu', 'eue', 'eues', 'eus', 'ai', 'as', 'avons', 'avez', 'ont', 'aurai', 'auras', 'aura', 'aurons', 'aurez', 'auront', 'aurais', 'aurait', 'aurions', 'auriez', 'auraient', 'avais', 'avait', 'avions', 'aviez', 'avaient', 'eut', 'eûmes', 'eûtes', 'eurent', 'aie', 'aies', 'ait', 'ayons', 'ayez', 'aient', 'eusse', 'eusses', 'eût', 'eussions', 'eussiez', 'eussent']\n"
          ]
        }
      ],
      "source": [
        "from nltk.corpus import stopwords\n",
        "\n",
        "stop_words = stopwords.words('french')\n",
        "print(stop_words)"
      ]
    },
    {
      "cell_type": "code",
      "execution_count": null,
      "metadata": {
        "id": "NUYk8UjG-KMq",
        "outputId": "cebecd14-72b0-4ca7-ff9f-8e90c0348861"
      },
      "outputs": [
        {
          "data": {
            "text/plain": [
              "'!\"#$%&\\'()*+,-./:;<=>?@[\\\\]^_`{|}~'"
            ]
          },
          "execution_count": 14,
          "metadata": {},
          "output_type": "execute_result"
        }
      ],
      "source": [
        "# We also have punctuations which we can ignore from our set of words just like stopwords.\n",
        "\n",
        "import string\n",
        "\n",
        "punct =string.punctuation\n",
        "punct"
      ]
    },
    {
      "cell_type": "code",
      "execution_count": null,
      "metadata": {
        "id": "BivyM_Pd-KMr",
        "outputId": "c323e7f2-9cce-4d04-dd8f-bb4135b53508"
      },
      "outputs": [
        {
          "name": "stdout",
          "output_type": "stream",
          "text": [
            "['India', 'Hindi', 'Bhārat', 'officially', 'Republic', 'India', 'country', 'South', 'Asia', 'seventh-largest', 'country', 'area', 'second-most', 'populous', 'country', 'populous', 'democracy', 'world', 'Bounded', 'Indian', 'Ocean', 'south', 'Arabian', 'Sea', 'southwest', 'Bay', 'Bengal', 'southeast', 'shares', 'land', 'borders', 'Pakistan', 'west', 'China', 'Nepal', 'Bhutan', 'north', 'Bangladesh', 'Myanmar', 'east', 'Indian', 'Ocean', 'India', 'vicinity', 'Sri', 'Lanka', 'Maldives', 'Andaman', 'Nicobar', 'Islands', 'share', 'maritime', 'border', 'Thailand', 'Indonesia']\n"
          ]
        }
      ],
      "source": [
        "# Let's word tokenize the given sample after we remove the stopwords and punctuation.\n",
        "\n",
        "import nltk\n",
        "import string\n",
        "from nltk.corpus import stopwords\n",
        "\n",
        "stop_words = stopwords.words('english')\n",
        "punct =string.punctuation\n",
        "\n",
        "data = \"India (Hindi: Bhārat), officially the Republic of India, is a country in South Asia. It is the seventh-largest country by area, the second-most populous country, and the most populous democracy in the world. Bounded by the Indian Ocean on the south, the Arabian Sea on the southwest, and the Bay of Bengal on the southeast, it shares land borders with Pakistan to the west; China, Nepal, and Bhutan to the north; and Bangladesh and Myanmar to the east. In the Indian Ocean, India is in the vicinity of Sri Lanka and the Maldives; its Andaman and Nicobar Islands share a maritime border with Thailand and Indonesia.\"\n",
        "clean_data =[]\n",
        "for word in nltk.word_tokenize(data):\n",
        "    if word.lower() not in punct:\n",
        "        if word.lower() not in stop_words:\n",
        "            clean_data.append(word)\n",
        "\n",
        "print(clean_data)"
      ]
    },
    {
      "cell_type": "code",
      "execution_count": null,
      "metadata": {
        "id": "5vzKwh9W-KMs",
        "outputId": "6c76d139-720b-44fe-a2fc-2099e06effe8"
      },
      "outputs": [
        {
          "name": "stdout",
          "output_type": "stream",
          "text": [
            "['love', 'build', 'quality', 'audio', 'quality', 'sennheiser', '450', 'btnc', 'noise', 'cancellation', 'great', 'good', 'issue', 'playing', 'music', 'Spotify', 'youtube', 'sound', 'stops', 'seconds', 'resumes', 'back', 'Anyone', 'know', 'reason', 'tell', 'tell', 'rectify', 'issue']\n"
          ]
        }
      ],
      "source": [
        "# Let's word tokenize the given sample after we remove the stopwords and punctuation.\n",
        "\n",
        "import nltk\n",
        "import string\n",
        "from nltk.corpus import stopwords\n",
        "\n",
        "stop_words = stopwords.words('english')\n",
        "punct =string.punctuation\n",
        "data  = 'I love the build quality and audio quality of sennheiser 450 btnc. But the noise cancellation is not great but good. I have a issue that while playing music on Spotify or youtube the sound stops for few seconds and resumes back. Anyone know the reason tell me. And tell me how to rectify this issue.'\n",
        "clean_data =[]\n",
        "for word in nltk.word_tokenize(data):\n",
        "    if word.lower() not in punct:\n",
        "        if word.lower() not in stop_words:\n",
        "            clean_data.append(word)\n",
        "#print(data)\n",
        "print(clean_data)"
      ]
    },
    {
      "cell_type": "markdown",
      "metadata": {
        "id": "Fo4_9qsZ-KMt"
      },
      "source": [
        "**Great!! Our data looks so much cleaner now after removing stop words and punctuation.**\n",
        "\n",
        "Hope, this clears up why we should remove stop words and punctuation before processing our data.\n",
        "\n",
        "Let's see pos tagging for our cleaned data:\n"
      ]
    },
    {
      "cell_type": "code",
      "execution_count": null,
      "metadata": {
        "id": "9NvsX_KR-KMt",
        "outputId": "aa65c521-2e4f-4189-e22b-df3feef6ef72"
      },
      "outputs": [
        {
          "data": {
            "text/plain": [
              "[('love', 'NN'),\n",
              " ('build', 'NN'),\n",
              " ('quality', 'NN'),\n",
              " ('audio', 'JJ'),\n",
              " ('quality', 'NN'),\n",
              " ('sennheiser', 'VBD'),\n",
              " ('450', 'CD'),\n",
              " ('btnc', 'NN'),\n",
              " ('noise', 'NN'),\n",
              " ('cancellation', 'NN'),\n",
              " ('great', 'JJ'),\n",
              " ('good', 'JJ'),\n",
              " ('issue', 'NN'),\n",
              " ('playing', 'VBG'),\n",
              " ('music', 'NN'),\n",
              " ('Spotify', 'NNP'),\n",
              " ('youtube', 'NN'),\n",
              " ('sound', 'NN'),\n",
              " ('stops', 'VBZ'),\n",
              " ('seconds', 'VBZ'),\n",
              " ('resumes', 'NNS'),\n",
              " ('back', 'RB'),\n",
              " ('Anyone', 'NNP'),\n",
              " ('know', 'NNP'),\n",
              " ('reason', 'NN'),\n",
              " ('tell', 'NN'),\n",
              " ('tell', 'VB'),\n",
              " ('rectify', 'VB'),\n",
              " ('issue', 'NN')]"
            ]
          },
          "execution_count": 17,
          "metadata": {},
          "output_type": "execute_result"
        }
      ],
      "source": [
        "nltk.pos_tag(clean_data)"
      ]
    },
    {
      "cell_type": "markdown",
      "metadata": {
        "id": "ds59EUb7-KMu"
      },
      "source": [
        "## Stemming and Lemmatization\n",
        "\n",
        "Many words that are used in a sentence are not always used in their basic form but are used as per the rules of grammar e.g.\n",
        "\n",
        "running ---> run (base word)\n",
        "\n",
        "runs    ---> run (base word)    \n",
        "\n",
        "run     ---> run (base word)\n",
        "\n",
        "Although, the underlying meaning will be same but form of the base word changes to preserve the correct grammatical meaning.\n",
        "\n",
        "**Stemming and Lemmatization are basically used to bring such words to their basic forms, so that the words with same base are treated as same words rather than treated differently.**\n",
        "\n",
        "The only difference in Stemming and Lemmatization is the way in which they change the word to its base form.\n",
        "\n",
        "* Stemming\n",
        "\n",
        "Stemming means mapping a group of words to the same stem by removing prefixes or suffixes without giving any value to the “grammatical meaning” of the stem formed after the process.\n",
        "\n",
        "e.g.\n",
        "\n",
        "computation --> comput\n",
        "\n",
        "computer --> comput\n",
        "\n",
        "hobbies --> hobbi\n",
        "\n",
        "We can see that stemming tries to bring the word back to their base word but the base word may or may not have correct grammatical meanings.\n",
        "\n",
        "There are typically two types of stemmers available in NLTK package.\n",
        "1)\tPorter Stemmer\n",
        "2)\tLancaster Stemmer\n",
        "\n",
        "Let’s see how to use both of them:\n",
        "\n",
        "\n",
        "\n"
      ]
    },
    {
      "cell_type": "code",
      "execution_count": null,
      "metadata": {
        "id": "gpnhGw7p-KMu",
        "outputId": "82c8ef80-c260-4f27-ab59-4cb5a60e861f"
      },
      "outputs": [
        {
          "name": "stdout",
          "output_type": "stream",
          "text": [
            "Porter stemmer\n",
            "hobbi\n",
            "hobbi\n",
            "comput\n",
            "comput\n",
            "**************************\n",
            "lancaster stemmer\n",
            "hobby\n",
            "hobby\n",
            "comput\n",
            "comput\n",
            "**************************\n",
            "Snowball stemmer\n",
            "hobbi\n",
            "hobbi\n",
            "comput\n",
            "comput\n"
          ]
        }
      ],
      "source": [
        "from nltk.stem import PorterStemmer\n",
        "from nltk.stem import LancasterStemmer, SnowballStemmer\n",
        "\n",
        "lancaster = LancasterStemmer()\n",
        "porter = PorterStemmer()\n",
        "Snowball = SnowballStemmer(\"english\")\n",
        "print('Porter stemmer')\n",
        "print(porter.stem(\"hobby\"))\n",
        "print(porter.stem(\"hobbies\"))\n",
        "print(porter.stem(\"computer\"))\n",
        "print(porter.stem(\"computation\"))\n",
        "print(\"**************************\")\n",
        "print('lancaster stemmer')\n",
        "print(lancaster.stem(\"hobby\"))\n",
        "print(lancaster.stem(\"hobbies\"))\n",
        "print(lancaster.stem(\"computer\"))\n",
        "print(porter.stem(\"computation\"))\n",
        "print(\"**************************\")\n",
        "print('Snowball stemmer')\n",
        "print(Snowball.stem(\"hobby\"))\n",
        "print(Snowball.stem(\"hobbies\"))\n",
        "print(Snowball.stem(\"computer\"))\n",
        "print(Snowball.stem(\"computation\"))\n"
      ]
    },
    {
      "cell_type": "code",
      "execution_count": null,
      "metadata": {
        "id": "WwPweku8-KMv",
        "outputId": "4432e588-57c7-497d-cd84-d0e1fde0aa99"
      },
      "outputs": [
        {
          "name": "stdout",
          "output_type": "stream",
          "text": [
            "i was go to the offic on my bike when i saw a car pass by hit the tree .\n",
            "i was going to the off on my bik when i saw a car pass by hit the tre .\n",
            "i wa go to the offic on my bike when i saw a car pass by hit the tree .\n"
          ]
        }
      ],
      "source": [
        "sent = \"I was going to the office on my bike when i saw a car passing by hit the tree.\"\n",
        "#sent = data\n",
        "token = list(nltk.word_tokenize(sent))\n",
        "lancaster = LancasterStemmer()\n",
        "porter = PorterStemmer()\n",
        "Snowball = SnowballStemmer(\"english\")\n",
        "for stemmer in (Snowball, lancaster, porter):\n",
        "    stemm = [stemmer.stem(t) for t in token]\n",
        "    print(\" \".join(stemm))"
      ]
    },
    {
      "cell_type": "markdown",
      "metadata": {
        "id": "BCSdNVIr-KMv"
      },
      "source": [
        "lancaster algorithm is faster than porter but it is more complex.\n",
        "Porter stemmer is the oldest algorithm present and was the most popular to use.\n",
        "\n",
        "Snowball stemmer, also known as  porter2, is the updated version of the Porter stemmer and is currently the most popular stemming algorithm.\n",
        "\n",
        "Snowball stemmer is available for multiple languages as well."
      ]
    },
    {
      "cell_type": "code",
      "execution_count": null,
      "metadata": {
        "id": "GE1F5k3j-KMw",
        "outputId": "2d2955ec-f43c-462b-f75a-c37126ec76a6"
      },
      "outputs": [
        {
          "name": "stdout",
          "output_type": "stream",
          "text": [
            "run\n",
            "run\n",
            "ran\n"
          ]
        }
      ],
      "source": [
        "print(porter.stem(\"running\"))\n",
        "print(porter.stem(\"runs\"))\n",
        "print(porter.stem(\"ran\"))"
      ]
    },
    {
      "cell_type": "markdown",
      "metadata": {
        "id": "I6dWgjJo-KMw"
      },
      "source": [
        "* Lemmatization\n",
        "\n",
        "\n",
        "Lemmatization also does the same thing as stemming and try to bring a word to its base form, but unlike stemming it do keep in account the actual meaning of the base word i.e. the base word belongs to any specific language. The ‘base word’ is known as ‘Lemma’.\n",
        "\n",
        "We use WordNet Lemmatizer for Lemmatization in nltk.\n"
      ]
    },
    {
      "cell_type": "code",
      "execution_count": null,
      "metadata": {
        "id": "A6IUi89F-KMw",
        "outputId": "869ede8c-49b8-459f-c7e6-6c7da1703a7a"
      },
      "outputs": [
        {
          "name": "stdout",
          "output_type": "stream",
          "text": [
            "running\n",
            "run\n",
            "run\n"
          ]
        }
      ],
      "source": [
        "from nltk.stem import WordNetLemmatizer\n",
        "\n",
        "lemma = WordNetLemmatizer()\n",
        "\n",
        "print(lemma.lemmatize('running'))\n",
        "print(lemma.lemmatize('runs'))\n",
        "print(lemma.lemmatize('run'))"
      ]
    },
    {
      "cell_type": "markdown",
      "metadata": {
        "id": "mIVwq1xK-KMx"
      },
      "source": [
        "Here, we can see the lemma has changed for the words with same base.\n",
        "\n",
        "This is because, we haven’t given any context to the Lemmatizer.\n",
        "\n",
        "Generally, it is given by passing the POS tags for the words in a sentence.\n",
        "e.g.\n"
      ]
    },
    {
      "cell_type": "code",
      "execution_count": null,
      "metadata": {
        "id": "GCjvvhGO-KMx",
        "outputId": "6f3d3e48-87fe-4f33-bb64-03c92aff74f3"
      },
      "outputs": [
        {
          "name": "stdout",
          "output_type": "stream",
          "text": [
            "run\n",
            "run\n",
            "run\n"
          ]
        }
      ],
      "source": [
        "print(lemma.lemmatize('running',pos='v'))\n",
        "print(lemma.lemmatize('runs',pos='v'))\n",
        "print(lemma.lemmatize('run',pos='v'))"
      ]
    },
    {
      "cell_type": "markdown",
      "metadata": {
        "id": "a6uc7-eW-KMy"
      },
      "source": [
        "Lemmatizer is very complex and takes a lot of time to calculate.\n",
        "\n",
        "So, it should only when the real meaning of words or the context is necessary for processing, else stemming should be preferred.\n",
        "\n",
        "It completely depends on the type of problem you are trying to solve."
      ]
    },
    {
      "cell_type": "markdown",
      "metadata": {
        "id": "kVnqN61x-KMy"
      },
      "source": [
        "## Named Entity Recognition(NER)\n",
        "\n",
        "In chunking, we read that we can set rules to keep different POS tags under one sinlge user defined tag. One such form of chunking in NLP is known as Named Entity Recognition.\n",
        "\n",
        "In NER, we try to group entities like people, places, countries, things etc. together.\n"
      ]
    },
    {
      "cell_type": "code",
      "execution_count": null,
      "metadata": {
        "id": "qjTzyTjV-KMy",
        "outputId": "b85de4a1-7ffd-448f-e355-a8f66a714eb8"
      },
      "outputs": [
        {
          "name": "stdout",
          "output_type": "stream",
          "text": [
            "(S\n",
            "  (GPE India/NNP)\n",
            "  ,/,\n",
            "  officially/RB\n",
            "  the/DT\n",
            "  (ORGANIZATION Republic/NNP)\n",
            "  of/IN\n",
            "  (GPE India/NNP)\n",
            "  ,/,\n",
            "  is/VBZ\n",
            "  a/DT\n",
            "  country/NN\n",
            "  in/IN\n",
            "  (GPE South/NNP Asia/NNP)\n",
            "  ./.)\n"
          ]
        }
      ],
      "source": [
        "sent = \"India, officially the Republic of India, is a country in South Asia.\"\n",
        "\n",
        "words = nltk.word_tokenize(sent)\n",
        "pos_tag = nltk.pos_tag(words)\n",
        "namedEntity = nltk.ne_chunk(pos_tag)\n",
        "print(namedEntity)\n",
        "namedEntity.draw()"
      ]
    },
    {
      "cell_type": "markdown",
      "metadata": {
        "id": "faAAiQmQ-KMz"
      },
      "source": [
        "## Graph\n",
        "\n",
        "<img src=\"NER1.PNG\">"
      ]
    },
    {
      "cell_type": "markdown",
      "metadata": {
        "id": "25TG4Wj8-KMz"
      },
      "source": [
        "\n",
        "<img src=\"NER2.PNG\">\n",
        "\n",
        "\n",
        "image source= nltk.org"
      ]
    },
    {
      "cell_type": "markdown",
      "metadata": {
        "id": "R6PbYIgj-KMz"
      },
      "source": [
        "With the help of NER, we can select any particular category from a given word document or sentence.\n",
        "Suppose we need all the names mentioned in a document, we can use NER and select the words with tag \"Person\"."
      ]
    },
    {
      "cell_type": "markdown",
      "metadata": {
        "id": "Tuocuhay-KM0"
      },
      "source": [
        "## Parsing\n",
        "\n",
        "Parsing is the process of determining the structure of a given a text on the basis of a given grammatical rule.\n",
        "\n",
        "e.g.\n",
        "* Divide a sentence as Noun_phrase and Verb_phrase.\n",
        "* Break Noun_phrase further in Proper noun, determiner, noun\n",
        "* Break Verb_phrase in verb, noun_phrase\n",
        "\n",
        "These are set of grammatical rules we will use to parse a given text.\n",
        "\n",
        "text = \" Ram ate a mango.\"\n",
        "\n",
        "* Proper_noun = Ram\n",
        "* Noun = mango\n",
        "* determiner =  a\n",
        "* verb = ate\n",
        "\n",
        "Once you pass the above mentioned set of grammatical rules in a parser. It will break the given \"text\" on the basis of it and output like this:\n",
        "\n",
        "Noun_Phrase( Proper_Noun Ram) , Verb_Phrase(verb (ate), noun_phrase( determiner(a), noun(mango))\n",
        "\n",
        "Such type of parser is called a **Recursive Parser**.\n",
        "\n",
        "There are many different types of Parsers available in Nltk library. Each one has a different usecase and can be used on the basis of requirement.\n"
      ]
    },
    {
      "cell_type": "code",
      "execution_count": null,
      "metadata": {
        "id": "YIAakkj2-KM0",
        "outputId": "f7fcfe1f-d3a8-42a6-f1ef-7f3723e21bfd"
      },
      "outputs": [
        {
          "data": {
            "text/plain": [
              "['BllipParser',\n",
              " 'BottomUpChartParser',\n",
              " 'BottomUpLeftCornerChartParser',\n",
              " 'BottomUpProbabilisticChartParser',\n",
              " 'ChartParser',\n",
              " 'CoreNLPDependencyParser',\n",
              " 'CoreNLPParser',\n",
              " 'DependencyEvaluator',\n",
              " 'DependencyGraph',\n",
              " 'EarleyChartParser',\n",
              " 'FeatureBottomUpChartParser',\n",
              " 'FeatureBottomUpLeftCornerChartParser',\n",
              " 'FeatureChartParser',\n",
              " 'FeatureEarleyChartParser',\n",
              " 'FeatureIncrementalBottomUpChartParser',\n",
              " 'FeatureIncrementalBottomUpLeftCornerChartParser',\n",
              " 'FeatureIncrementalChartParser',\n",
              " 'FeatureIncrementalTopDownChartParser',\n",
              " 'FeatureTopDownChartParser',\n",
              " 'IncrementalBottomUpChartParser',\n",
              " 'IncrementalBottomUpLeftCornerChartParser',\n",
              " 'IncrementalChartParser',\n",
              " 'IncrementalLeftCornerChartParser',\n",
              " 'IncrementalTopDownChartParser',\n",
              " 'InsideChartParser',\n",
              " 'LeftCornerChartParser',\n",
              " 'LongestChartParser',\n",
              " 'MaltParser',\n",
              " 'NaiveBayesDependencyScorer',\n",
              " 'NonprojectiveDependencyParser',\n",
              " 'ParserI',\n",
              " 'ProbabilisticNonprojectiveParser',\n",
              " 'ProbabilisticProjectiveDependencyParser',\n",
              " 'ProjectiveDependencyParser',\n",
              " 'RandomChartParser',\n",
              " 'RecursiveDescentParser',\n",
              " 'ShiftReduceParser',\n",
              " 'SteppingChartParser',\n",
              " 'SteppingRecursiveDescentParser',\n",
              " 'SteppingShiftReduceParser',\n",
              " 'TestGrammar',\n",
              " 'TopDownChartParser',\n",
              " 'TransitionParser',\n",
              " 'UnsortedChartParser',\n",
              " 'ViterbiParser',\n",
              " '__builtins__',\n",
              " '__cached__',\n",
              " '__doc__',\n",
              " '__file__',\n",
              " '__loader__',\n",
              " '__name__',\n",
              " '__package__',\n",
              " '__path__',\n",
              " '__spec__',\n",
              " 'api',\n",
              " 'bllip',\n",
              " 'chart',\n",
              " 'corenlp',\n",
              " 'dependencygraph',\n",
              " 'earleychart',\n",
              " 'evaluate',\n",
              " 'extract_test_sentences',\n",
              " 'featurechart',\n",
              " 'load_parser',\n",
              " 'malt',\n",
              " 'nonprojectivedependencyparser',\n",
              " 'pchart',\n",
              " 'projectivedependencyparser',\n",
              " 'recursivedescent',\n",
              " 'shiftreduce',\n",
              " 'transitionparser',\n",
              " 'util',\n",
              " 'viterbi']"
            ]
          },
          "execution_count": 15,
          "metadata": {},
          "output_type": "execute_result"
        }
      ],
      "source": [
        "dir(nltk.parse)"
      ]
    },
    {
      "cell_type": "code",
      "execution_count": null,
      "metadata": {
        "id": "YQmdP-d3-KM1"
      },
      "outputs": [],
      "source": [
        "grammar = nltk.CFG.fromstring(\"\"\"\n",
        "  S -> NP VP\n",
        "  VP -> V NP | V NP PP\n",
        "  PP -> P NP\n",
        "  V -> \"saw\" | \"slept\" | \"walked\"\n",
        "  NP -> \"Rahul\" | \"Anjali\" | Det N | Det N PP\n",
        "  Det -> \"a\" | \"an\" | \"the\" | \"my\"\n",
        "  N -> \"man\" | \"dog\" | \"cat\" | \"telescope\" | \"park\"\n",
        "  P -> \"in\" | \"on\" | \"by\" | \"with\"\n",
        "  \"\"\")"
      ]
    },
    {
      "cell_type": "code",
      "execution_count": null,
      "metadata": {
        "id": "ydINBjv_-KM1",
        "outputId": "edfcef32-c069-45b8-e2f6-f7258f3acff6"
      },
      "outputs": [
        {
          "name": "stdout",
          "output_type": "stream",
          "text": [
            "(S\n",
            "  (NP Rahul)\n",
            "  (VP (V saw) (NP Anjali) (PP (P with) (NP (Det a) (N dog)))))\n"
          ]
        }
      ],
      "source": [
        "sent = \"Rahul saw Anjali with a dog\".split()\n",
        "parser = nltk.RecursiveDescentParser(grammar)\n",
        "for tree in parser.parse(sent):\n",
        "    print(tree)\n",
        "    tree.draw()"
      ]
    },
    {
      "cell_type": "markdown",
      "metadata": {
        "id": "xzOk1Umw-KM2"
      },
      "source": [
        "Let's visualise the graph after parsing ::\n",
        "\n",
        "<img src=\"parse.PNG\">"
      ]
    },
    {
      "cell_type": "markdown",
      "metadata": {
        "id": "o-edYpQ_-KM2"
      },
      "source": [
        "## Word Vectorization (Word Embedding)\n",
        "\n",
        "Word vectorization is the process of mapping words to a set of real numbers or vectors. This is done to process the given words using machine learning techniques and extract relevant information from them such that it can be used in further predicting words. Vectorization is done by comparing a given word to the corpus(collection) of the available words.\n",
        "There are many different methods used for vectorizing a given set of words. let's see some of the mosed popular ones:\n",
        "\n",
        "### Count Vectorizer\n",
        "\n",
        "Count vectorizer uses two of the following models as the base to vectorize the given words on the basis of frequency of words.\n",
        "\n",
        "#### Bag of Words Model\n",
        "BOW model is used in NLP to represent the given text/sentence/document as a collection (bag) of words without giving any importance to grammar or the occurrence order of the words. It keeps the account of frequency of the words in the text document, which can be used as features in many models.\n",
        "\n",
        "Let’s understand this with an example:\n",
        "\n",
        "Text1 = “I went to have a cup of coffee but I ended up having lunch with her.”\n",
        "\n",
        "Text2 = “I don’t understand, what is the problem here?”\n",
        "\n",
        "BOW1 = {I :2, went : 1, to : 1,have : 1, a : 1, cup: 1, of :1, coffee : 1, but :1, ended : 1, up :1,having : 1, with :1, her :1}\n",
        "\n",
        "BOW2 = {I : 1, don’t : 1, understand:1, what : 1 , is :1, the : 1, problem : 1, here : 1}\n",
        "\n",
        "BOW is mainly used for feature selection. The above dictionary is converted as a list with only the frequency terms there and on that basis, weights are given to the most occurring terms. But the “stop words” are the most frequent words that appears in raw document. Thus, having a word with high frequency count doesn’t mean that the word is as important. To resolve this problem, “Tf-idf” was introduced. We will discuss about it later.\n",
        "\n",
        "#### n-gram model\n",
        "\n",
        "As discussed in bag of words model, BOW model doesn’t keep the sequence of words in a given text, only the frequency of words matters. It doesn’t take into account the context of the given sentence, or care for grammatical rules such as verb is following a proper noun in the given text.n-gram model is used in such cases to keep the context of the given text intact. N-gram is the sequence of n words from a given text/document.\n",
        "\n",
        "When, n= 1, we call it a “unigram”.\n",
        "\n",
        "             n=2, it is called a “bigram”.\n",
        "             \n",
        "             n=3, it is called a “trigram”.\n",
        "And so on.\n",
        "\n",
        "Let’s understand this with an example:\n",
        "\n",
        "Text1 = “I went to have a cup of coffee but I ended up having lunch with her.”\n",
        "\n",
        "* Unigram\n",
        "\n",
        "[I, went, to, have, a, cup, of, coffee, but, I, ended, up, having, lunch, with, her]\n",
        "\n",
        "* Bi-gram\n",
        "\n",
        "[I went], [went to],[to have],[have a],[a cup],[cup f],[of coffee],[coffee but],[but I],[I ended],[ended up],\n",
        "[up having],[having lunch],[lunch with],[with her]\n",
        "\n",
        "* Tri-gram\n",
        "\n",
        "[I went to], [went to have], [to have a], [have a cup],[ a cup of], [cup of coffee],[ of coffee but],[ coffee but I],[but I ended],[I ended up],[ended up having],[up having lunch],[having lunch with],[lunch with her].\n",
        "\n",
        "Note: We can clearly see that BOW model is nothing but n-gram model when n=1.\n",
        "\n",
        "Skip-grams\n",
        "\n",
        "Skip grams are type of n-grams where the words are not necessarily in the same order as are in the given text i.e. some words can be skipped.\n",
        "Example:\n",
        "\n",
        "Text2 = “I don’t understand, what is the problem here?”\n",
        "\n",
        "1-skip 2-grams (we have to make 2-gram while skipping 1 word)\n",
        "\n",
        "[I understand, don’t what, understand is, what the, is problem, the here].\n",
        "\n",
        "\n",
        "Let's see the implementation of Count vectorizer in python:"
      ]
    },
    {
      "cell_type": "code",
      "execution_count": null,
      "metadata": {
        "id": "nOE1RGyR-KM2",
        "outputId": "4e3866ec-bb66-41ef-918d-772b24697717"
      },
      "outputs": [
        {
          "name": "stdout",
          "output_type": "stream",
          "text": [
            "1-gram  : ['an', 'example', 'gram', 'is', 'of', 'this']\n",
            "2-gram  : ['an example', 'example of', 'is an', 'of gram', 'this is']\n",
            "3-gram  : ['an example of', 'example of gram', 'is an example', 'this is an']\n",
            "4-gram  : ['an example of gram', 'is an example of', 'this is an example']\n"
          ]
        }
      ],
      "source": [
        "# n-grams\n",
        "from sklearn.feature_extraction.text import CountVectorizer\n",
        "from nltk.tokenize import word_tokenize\n",
        "\n",
        "string = [\"This is an example of n-gram!\"]\n",
        "vect1 = CountVectorizer(ngram_range=(1,1))\n",
        "vect1.fit_transform(string)\n",
        "vect2 = CountVectorizer(ngram_range=(2,2))\n",
        "vect2.fit_transform(string)\n",
        "vect3 = CountVectorizer(ngram_range=(3,3))\n",
        "vect3.fit_transform(string)\n",
        "vect4 = CountVectorizer(ngram_range=(4,4))\n",
        "vect4.fit_transform(string)\n",
        "print(\"1-gram  :\",vect1.get_feature_names())\n",
        "print(\"2-gram  :\",vect2.get_feature_names())\n",
        "print(\"3-gram  :\",vect3.get_feature_names())\n",
        "print(\"4-gram  :\",vect4.get_feature_names())"
      ]
    },
    {
      "cell_type": "code",
      "execution_count": null,
      "metadata": {
        "id": "A4Mnmac7-KM3",
        "outputId": "bc1a3015-1695-492b-82e0-d4f05824d4a5"
      },
      "outputs": [
        {
          "name": "stdout",
          "output_type": "stream",
          "text": [
            "bag of words : ['an', 'bag', 'example', 'is', 'of', 'this', 'words']\n"
          ]
        }
      ],
      "source": [
        "## Bag Of Words\n",
        "from sklearn.feature_extraction.text import CountVectorizer\n",
        "from nltk.tokenize import word_tokenize\n",
        "\n",
        "string = [\"This is an example of bag of words!\"]\n",
        "vect1 = CountVectorizer()\n",
        "vect1.fit_transform(string)\n",
        "print(\"bag of words :\",vect1.get_feature_names())"
      ]
    },
    {
      "cell_type": "markdown",
      "metadata": {
        "id": "PB8vzxt0-KM3"
      },
      "source": [
        "## Tf-Idf (Term frequency–Inverse document frequency)\n",
        "\n",
        "Wikipedia definition:  ” Tf-Idf, short for term frequency–inverse document frequency, is a numerical statistic that is intended to reflect how important a word is to a document in a collection or corpus. It is often used as a weighting factor in searches of information retrieval, text mining, and user modeling. The Tf–idf value increases proportionally to the number of times a word appears in the document and is offset by the number of documents in the corpus that contain the word, which helps to adjust for the fact that some words appear more frequently in general. Tf–idf is one of the most popular term-weighting schemes today.”\n",
        "\n",
        "\n",
        "### Term Frequency\n",
        "It is simply the frequency in which a word appears in a document in comparison to the total number words in the document. Mathematically given as:\n",
        "\n",
        "Term frequency = (Number of times a word appears in the document) / (Total number of words in the document)\n",
        "\n",
        "### Inverse Document Frequency\n",
        "\n",
        "Term frequency has a disadvantage that it tends to give higher weights to words with higher frequency. In such cases words like ‘a’, ‘the’, ‘in’, ’of’ etc. appears more in the documents than other regular words. Thus, more important words are wrongly given lower weights as their frequency is less.\n",
        " To tackle this problem IDF was introduced. IDF decreases the weights of such high frequency terms and increases the weight of terms with rare occurrence. Mathematically it is given as:\n",
        "\n",
        "Inverse Document Frequency = log [(Number of documents)/(Number of documents the word appears in)]   \n",
        "\n",
        "note: [log has base 2]\n",
        "\n",
        "\n",
        "*Tf-Idf Score = Term frequency * Inverse Document Frequency*\n"
      ]
    },
    {
      "cell_type": "markdown",
      "metadata": {
        "id": "oTADPGKU-KM4"
      },
      "source": [
        "Let's understand more with an example:\n",
        "\n",
        "Doc 1: This is an example.\n",
        "\n",
        "Doc 2: We will see how it works.\n",
        "\n",
        "Doc 3: IDF can be confusing.\n",
        "\n",
        "\n",
        "\n",
        "<img src= \"tfidf.PNG\">\n",
        "\n",
        "In the above table, we have calculated the term frequency as well as inverse document frequency of each of the words present in the 3 documents given.\n",
        "\n",
        "Now, let's calculate the tf-idf score for each term. Since, words of one document is not present in another document, we will have tf-idf value 0 for them e.g. words of doc1 will have 0 tf-idf for doc2 and doc3.\n",
        "\n",
        "<img src= \"tfidf2.PNG\">\n",
        "\n",
        "Great, hope this example must have cleared how Tf-Idf works.\n",
        "\n",
        "let's see the python implementation for it:"
      ]
    },
    {
      "cell_type": "code",
      "execution_count": null,
      "metadata": {
        "id": "I-Fj0I_b-KM4",
        "outputId": "5704b4ff-5762-4b78-f8a2-d4261e99a2ba"
      },
      "outputs": [
        {
          "data": {
            "text/html": [
              "<div>\n",
              "<style scoped>\n",
              "    .dataframe tbody tr th:only-of-type {\n",
              "        vertical-align: middle;\n",
              "    }\n",
              "\n",
              "    .dataframe tbody tr th {\n",
              "        vertical-align: top;\n",
              "    }\n",
              "\n",
              "    .dataframe thead th {\n",
              "        text-align: right;\n",
              "    }\n",
              "</style>\n",
              "<table border=\"1\" class=\"dataframe\">\n",
              "  <thead>\n",
              "    <tr style=\"text-align: right;\">\n",
              "      <th></th>\n",
              "      <th>an</th>\n",
              "      <th>be</th>\n",
              "      <th>can</th>\n",
              "      <th>confusing</th>\n",
              "      <th>example</th>\n",
              "      <th>how</th>\n",
              "      <th>idf</th>\n",
              "      <th>is</th>\n",
              "      <th>it</th>\n",
              "      <th>see</th>\n",
              "      <th>this</th>\n",
              "      <th>we</th>\n",
              "      <th>will</th>\n",
              "      <th>works</th>\n",
              "    </tr>\n",
              "  </thead>\n",
              "  <tbody>\n",
              "    <tr>\n",
              "      <th>0</th>\n",
              "      <td>0.5</td>\n",
              "      <td>0.0</td>\n",
              "      <td>0.0</td>\n",
              "      <td>0.0</td>\n",
              "      <td>0.5</td>\n",
              "      <td>0.000000</td>\n",
              "      <td>0.0</td>\n",
              "      <td>0.5</td>\n",
              "      <td>0.000000</td>\n",
              "      <td>0.000000</td>\n",
              "      <td>0.5</td>\n",
              "      <td>0.000000</td>\n",
              "      <td>0.000000</td>\n",
              "      <td>0.000000</td>\n",
              "    </tr>\n",
              "    <tr>\n",
              "      <th>1</th>\n",
              "      <td>0.0</td>\n",
              "      <td>0.0</td>\n",
              "      <td>0.0</td>\n",
              "      <td>0.0</td>\n",
              "      <td>0.0</td>\n",
              "      <td>0.408248</td>\n",
              "      <td>0.0</td>\n",
              "      <td>0.0</td>\n",
              "      <td>0.408248</td>\n",
              "      <td>0.408248</td>\n",
              "      <td>0.0</td>\n",
              "      <td>0.408248</td>\n",
              "      <td>0.408248</td>\n",
              "      <td>0.408248</td>\n",
              "    </tr>\n",
              "    <tr>\n",
              "      <th>2</th>\n",
              "      <td>0.0</td>\n",
              "      <td>0.5</td>\n",
              "      <td>0.5</td>\n",
              "      <td>0.5</td>\n",
              "      <td>0.0</td>\n",
              "      <td>0.000000</td>\n",
              "      <td>0.5</td>\n",
              "      <td>0.0</td>\n",
              "      <td>0.000000</td>\n",
              "      <td>0.000000</td>\n",
              "      <td>0.0</td>\n",
              "      <td>0.000000</td>\n",
              "      <td>0.000000</td>\n",
              "      <td>0.000000</td>\n",
              "    </tr>\n",
              "  </tbody>\n",
              "</table>\n",
              "</div>"
            ],
            "text/plain": [
              "    an   be  can  confusing  example       how  idf   is        it       see  \\\n",
              "0  0.5  0.0  0.0        0.0      0.5  0.000000  0.0  0.5  0.000000  0.000000   \n",
              "1  0.0  0.0  0.0        0.0      0.0  0.408248  0.0  0.0  0.408248  0.408248   \n",
              "2  0.0  0.5  0.5        0.5      0.0  0.000000  0.5  0.0  0.000000  0.000000   \n",
              "\n",
              "   this        we      will     works  \n",
              "0   0.5  0.000000  0.000000  0.000000  \n",
              "1   0.0  0.408248  0.408248  0.408248  \n",
              "2   0.0  0.000000  0.000000  0.000000  "
            ]
          },
          "execution_count": 27,
          "metadata": {},
          "output_type": "execute_result"
        }
      ],
      "source": [
        "from sklearn.feature_extraction.text import TfidfVectorizer\n",
        "import pandas as pd\n",
        "\n",
        "tfid = TfidfVectorizer(smooth_idf=False)\n",
        "\n",
        "doc= [\"This is an example.\",\"We will see how it works.\",\"IDF can be confusing\"]\n",
        "\n",
        "doc_vector = tfid.fit_transform(doc)\n",
        "#print(tfid.get_feature_names())\n",
        "df= pd.DataFrame(doc_vector.todense(),columns=tfid.get_feature_names())\n",
        "df\n",
        "#print(doc_vector)\n",
        "\n",
        "\n",
        "\n",
        "\n"
      ]
    },
    {
      "cell_type": "markdown",
      "metadata": {
        "id": "7WcMzQ5Z-KM4"
      },
      "source": [
        "Although we are using the same data set as we used while doing manual calculation, the results are different than what we got.\n",
        "\n",
        "This is because sklearn package have some modifications done to the formula to avoid complete avoidance of terms as well as to counter dividing by zero.\n",
        "\n",
        "You can know more by going through the official doumentation of sklearn as below:\n",
        "\n",
        "\"\n",
        "   *The formula that is used to compute the tf-idf for a term t of a document d\n",
        "    in a document set is tf-idf(t, d) = tf(t, d) * idf(t), and the idf is\n",
        "    computed as idf(t) = log [ n / df(t) ] + 1 (if ``smooth_idf=False``), where\n",
        "    n is the total number of documents in the document set and df(t) is the\n",
        "    document frequency of t; the document frequency is the number of documents\n",
        "    in the document set that contain the term t. The effect of adding \"1\" to\n",
        "    the idf in the equation above is that terms with zero idf, i.e., terms\n",
        "    that occur in all documents in a training set, will not be entirely\n",
        "    ignored.\n",
        "    (Note that the idf formula above differs from the standard textbook\n",
        "    notation that defines the idf as\n",
        "    idf(t) = log [ n / (df(t) + 1) ]).\n",
        "    If ``smooth_idf=True`` (the default), the constant \"1\" is added to the\n",
        "    numerator and denominator of the idf as if an extra document was seen\n",
        "    containing every term in the collection exactly once, which prevents\n",
        "    zero divisions: idf(d, t) = log [ (1 + n) / (1 + df(d, t)) ] + 1.\"*"
      ]
    },
    {
      "cell_type": "code",
      "execution_count": null,
      "metadata": {
        "id": "7EewbquC-KM5",
        "outputId": "9d73e83d-3bca-4b12-838e-19deac2eabd3"
      },
      "outputs": [
        {
          "name": "stderr",
          "output_type": "stream",
          "text": [
            "/Users/sumitkumarshukla/opt/anaconda3/lib/python3.8/site-packages/sklearn/utils/deprecation.py:87: FutureWarning: Function get_feature_names is deprecated; get_feature_names is deprecated in 1.0 and will be removed in 1.2. Please use get_feature_names_out instead.\n",
            "  warnings.warn(msg, category=FutureWarning)\n"
          ]
        }
      ],
      "source": [
        "from sklearn.feature_extraction.text import TfidfVectorizer\n",
        "import pandas as pd\n",
        "\n",
        "tfid = TfidfVectorizer()\n",
        "\n",
        "doc= [\"Let's use python!\", \"Sklearn has package for Tf-idf.\",\"Vectorization is fun!\"]\n",
        "\n",
        "doc_vector = tfid.fit_transform(doc)\n",
        "#print(tfid.get_feature_names())\n",
        "df= pd.DataFrame(doc_vector.todense(),columns=tfid.get_feature_names())\n",
        "\n",
        "#print(doc_vector)"
      ]
    },
    {
      "cell_type": "code",
      "execution_count": null,
      "metadata": {
        "id": "1rUc7dLo-KM5",
        "outputId": "a68ff3b6-a9b4-4010-8285-abd77fd9f552"
      },
      "outputs": [
        {
          "data": {
            "text/html": [
              "<div>\n",
              "<style scoped>\n",
              "    .dataframe tbody tr th:only-of-type {\n",
              "        vertical-align: middle;\n",
              "    }\n",
              "\n",
              "    .dataframe tbody tr th {\n",
              "        vertical-align: top;\n",
              "    }\n",
              "\n",
              "    .dataframe thead th {\n",
              "        text-align: right;\n",
              "    }\n",
              "</style>\n",
              "<table border=\"1\" class=\"dataframe\">\n",
              "  <thead>\n",
              "    <tr style=\"text-align: right;\">\n",
              "      <th></th>\n",
              "      <th>for</th>\n",
              "      <th>fun</th>\n",
              "      <th>has</th>\n",
              "      <th>idf</th>\n",
              "      <th>is</th>\n",
              "      <th>let</th>\n",
              "      <th>package</th>\n",
              "      <th>python</th>\n",
              "      <th>sklearn</th>\n",
              "      <th>tf</th>\n",
              "      <th>use</th>\n",
              "      <th>vectorization</th>\n",
              "    </tr>\n",
              "  </thead>\n",
              "  <tbody>\n",
              "    <tr>\n",
              "      <th>0</th>\n",
              "      <td>0.000000</td>\n",
              "      <td>0.00000</td>\n",
              "      <td>0.000000</td>\n",
              "      <td>0.000000</td>\n",
              "      <td>0.00000</td>\n",
              "      <td>0.57735</td>\n",
              "      <td>0.000000</td>\n",
              "      <td>0.57735</td>\n",
              "      <td>0.000000</td>\n",
              "      <td>0.000000</td>\n",
              "      <td>0.57735</td>\n",
              "      <td>0.00000</td>\n",
              "    </tr>\n",
              "    <tr>\n",
              "      <th>1</th>\n",
              "      <td>0.408248</td>\n",
              "      <td>0.00000</td>\n",
              "      <td>0.408248</td>\n",
              "      <td>0.408248</td>\n",
              "      <td>0.00000</td>\n",
              "      <td>0.00000</td>\n",
              "      <td>0.408248</td>\n",
              "      <td>0.00000</td>\n",
              "      <td>0.408248</td>\n",
              "      <td>0.408248</td>\n",
              "      <td>0.00000</td>\n",
              "      <td>0.00000</td>\n",
              "    </tr>\n",
              "    <tr>\n",
              "      <th>2</th>\n",
              "      <td>0.000000</td>\n",
              "      <td>0.57735</td>\n",
              "      <td>0.000000</td>\n",
              "      <td>0.000000</td>\n",
              "      <td>0.57735</td>\n",
              "      <td>0.00000</td>\n",
              "      <td>0.000000</td>\n",
              "      <td>0.00000</td>\n",
              "      <td>0.000000</td>\n",
              "      <td>0.000000</td>\n",
              "      <td>0.00000</td>\n",
              "      <td>0.57735</td>\n",
              "    </tr>\n",
              "  </tbody>\n",
              "</table>\n",
              "</div>"
            ],
            "text/plain": [
              "        for      fun       has       idf       is      let   package   python  \\\n",
              "0  0.000000  0.00000  0.000000  0.000000  0.00000  0.57735  0.000000  0.57735   \n",
              "1  0.408248  0.00000  0.408248  0.408248  0.00000  0.00000  0.408248  0.00000   \n",
              "2  0.000000  0.57735  0.000000  0.000000  0.57735  0.00000  0.000000  0.00000   \n",
              "\n",
              "    sklearn        tf      use  vectorization  \n",
              "0  0.000000  0.000000  0.57735        0.00000  \n",
              "1  0.408248  0.408248  0.00000        0.00000  \n",
              "2  0.000000  0.000000  0.00000        0.57735  "
            ]
          },
          "execution_count": 31,
          "metadata": {},
          "output_type": "execute_result"
        }
      ],
      "source": [
        "df"
      ]
    },
    {
      "cell_type": "markdown",
      "metadata": {
        "id": "DA1624yc-KM5"
      },
      "source": [
        "Let's understand the above result!!!!\n",
        "\n",
        "The left most column has values like (a,b) where 'a' denotes the number of document and 'b' is the word vector index assigned to the words in that document.\n",
        "\n",
        "\n",
        "The right column denotes the tf-idf score for each word.\n",
        "\n"
      ]
    },
    {
      "cell_type": "code",
      "execution_count": null,
      "metadata": {
        "id": "e25r-Kx5-KM6",
        "outputId": "84c0a576-3ebe-4c49-986c-4629dea47b55"
      },
      "outputs": [
        {
          "data": {
            "text/plain": [
              "t    5\n",
              "h    4\n",
              "e    6\n",
              "     9\n",
              "r    4\n",
              "i    2\n",
              "g    1\n",
              "c    3\n",
              "o    5\n",
              "l    1\n",
              "u    1\n",
              "m    1\n",
              "n    2\n",
              "d    3\n",
              "s    2\n",
              "f    3\n",
              "-    1\n",
              "a    1\n",
              "w    1\n",
              ".    1\n",
              "dtype: int64"
            ]
          },
          "execution_count": 32,
          "metadata": {},
          "output_type": "execute_result"
        }
      ],
      "source": [
        "x = 'The right column denotes the tf-idf score for each word.'.lower()\n",
        "from collections import Counter\n",
        "import pandas as pd\n",
        "pd.Series(Counter(x))"
      ]
    }
  ],
  "metadata": {
    "kernelspec": {
      "display_name": "Python 3 (ipykernel)",
      "language": "python",
      "name": "python3"
    },
    "language_info": {
      "codemirror_mode": {
        "name": "ipython",
        "version": 3
      },
      "file_extension": ".py",
      "mimetype": "text/x-python",
      "name": "python",
      "nbconvert_exporter": "python",
      "pygments_lexer": "ipython3",
      "version": "3.9.13"
    },
    "colab": {
      "provenance": []
    }
  },
  "nbformat": 4,
  "nbformat_minor": 0
}